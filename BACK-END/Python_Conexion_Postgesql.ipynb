{
  "nbformat": 4,
  "nbformat_minor": 0,
  "metadata": {
    "colab": {
      "provenance": [],
      "collapsed_sections": []
    },
    "kernelspec": {
      "name": "python3",
      "display_name": "Python 3"
    },
    "language_info": {
      "name": "python"
    }
  },
  "cells": [
    {
      "cell_type": "code",
      "execution_count": null,
      "metadata": {
        "colab": {
          "base_uri": "https://localhost:8080/"
        },
        "id": "Qsf9Cqre_VGF",
        "outputId": "28e8c6e2-5875-4116-8a48-361b77960b66"
      },
      "outputs": [
        {
          "output_type": "stream",
          "name": "stdout",
          "text": [
            "Looking in indexes: https://pypi.org/simple, https://us-python.pkg.dev/colab-wheels/public/simple/\n",
            "Requirement already satisfied: psycopg2 in /usr/local/lib/python3.7/dist-packages (2.9.5)\n"
          ]
        }
      ],
      "source": [
        "pip install psycopg2\n"
      ]
    },
    {
      "cell_type": "code",
      "source": [
        "import psycopg2\n",
        "\n",
        "#establishing the connection\n",
        "conn = psycopg2.connect(\n",
        "   database=\"d6dnjthjdhcjg2\", \n",
        "   user='mhoadzckqtelgg', \n",
        "   password='d23acd0a4b499eb1ea118026c36297aa9e19dd60dfdee4c17d146341eebffdd2', \n",
        "   host='ec2-54-175-79-57.compute-1.amazonaws.com', \n",
        "   port= '5432'\n",
        ")"
      ],
      "metadata": {
        "id": "Rhjxrcdm_vBu"
      },
      "execution_count": 2,
      "outputs": []
    },
    {
      "cell_type": "code",
      "source": [
        "#Creating a cursor object using the cursor() method\n",
        "cursor = conn.cursor()"
      ],
      "metadata": {
        "id": "txTsNrevAlcC"
      },
      "execution_count": null,
      "outputs": []
    },
    {
      "cell_type": "code",
      "source": [
        "cursor.execute(\"select * from consultora_organizacion\")"
      ],
      "metadata": {
        "id": "FjxU_sCVAsAO"
      },
      "execution_count": null,
      "outputs": []
    },
    {
      "cell_type": "code",
      "source": [
        "data = cursor.fetchall()\n",
        "print(\"Connection established to: \",data)"
      ],
      "metadata": {
        "colab": {
          "base_uri": "https://localhost:8080/"
        },
        "id": "_dUlbTjbBKge",
        "outputId": "37a9cb9d-fe11-4ea8-b7f7-275cc5c11e70"
      },
      "execution_count": null,
      "outputs": [
        {
          "output_type": "stream",
          "name": "stdout",
          "text": [
            "Connection established to:  [(1, 'Vates', '20-123987456-9', 'Maipu 188', 'vates@vates.com', '351456987', 1, 1), (4, 'YPF', '30546689979', 'Av. Monseñor Pablo Cabrera', 'rrhh@ypf.com.ar', '800 122 2973', 39, 1), (5, 'Grupo Dinosaurio', '30-69847147-2', 'Rodríguez del Busto 4086', 'info@grupodinosaurio.com', '54 351 526 1500', 35, 1), (6, 'Tarjeta Naranja', '30-68537634-9', 'la tablada 451', 'rrhh@naranjax.com', '0810-333-6272.', 2, 1), (7, 'Porta Hnos', '30-50109993-3', 'Av. Cdad. de Valparaíso 4850', 'rrhh@Portahnos.com.ar', '0351 493-8400', 1, 1), (8, 'Helacor', '33-70796584-9', 'Estomba S/N Lote 20', 'helacor@grido.com.ar', '0351 475-0004', 44, 1), (9, 'Sanatorio Allende', '30-54587142-0', 'Obispo Oro 42', 'sanatorioallende@sanatorioallende.com', '0810-555-2553', 36, 2), (10, 'Konecta', '30-71023802-9', 'Rosario de Sta. Fe 89', 'rrhh@konecta.org.ar', '0351 426-6601', 2, 1), (2, 'Mercado Libre', '30-70308853-4', 'Av. La Voz del Interior 7000', 'rrhh@mercadolibre.com', None, 46, 1), (3, 'Arcor', '30-50279317-5', 'Blvr. Chacabuco 1160', 'rrhh@arcor.com.ar', '0351 420-8200', 36, 1)]\n"
          ]
        }
      ]
    },
    {
      "cell_type": "code",
      "source": [
        "conn.close()"
      ],
      "metadata": {
        "id": "cDhAtvbxDUH_"
      },
      "execution_count": null,
      "outputs": []
    },
    {
      "cell_type": "code",
      "source": [
        "# Ejecutamos las celdas 1 y 2 antes. Y la celda 4 para cerrar la conexion."
      ],
      "metadata": {
        "id": "rHYudCRpBg6r"
      },
      "execution_count": null,
      "outputs": []
    },
    {
      "cell_type": "code",
      "source": [
        "import psycopg2\n",
        "\n",
        "conn = psycopg2.connect(\n",
        "   database=\"d6dnjthjdhcjg2\", \n",
        "   user= 'mhoadzckqtelgg', \n",
        "   password='d23acd0a4b499eb1ea118026c36297aa9e19dd60dfdee4c17d146341eebffdd2', \n",
        "   host='ec2-54-175-79-57.compute-1.amazonaws.com', \n",
        "   port= '5432'\n",
        ")\n",
        "\n",
        "cursor = conn.cursor()\n",
        "cursor.execute(\"select * from consultora_postulante\")\n",
        "data = cursor.fetchall()\n",
        "print(\"Connection established to: \",data)\n",
        "conn.close()\n"
      ],
      "metadata": {
        "id": "jazhopA5BQ_3",
        "colab": {
          "base_uri": "https://localhost:8080/"
        },
        "outputId": "54baf6f9-3ae6-42c3-b2b0-9198cfac148f"
      },
      "execution_count": null,
      "outputs": [
        {
          "output_type": "stream",
          "name": "stdout",
          "text": [
            "Connection established to:  [(1, 'Edgar', 'Galleguillo', 1, '22795123', datetime.date(1972, 12, 19), 'Manzana 16 lote 13', 1, '3513718123', 'edgar.galleguillo@gmail.com', 4, 2), (3, 'Alejandro', 'Mainero', 2, '32345789', datetime.date(1970, 6, 27), 'Larrañaga 345', 2, '3512454789', 'alemainero70@gmail.com', 4, 2)]\n"
          ]
        }
      ]
    },
    {
      "cell_type": "code",
      "source": [
        "conn = psycopg2.connect(\n",
        "   database=\"d6dnjthjdhcjg2\", \n",
        "   user='mhoadzckqtelgg', \n",
        "   password='d23acd0a4b499eb1ea118026c36297aa9e19dd60dfdee4c17d146341eebffdd2', \n",
        "   host='ec2-54-175-79-57.compute-1.amazonaws.com', \n",
        "   port= '5432'\n",
        ")\n",
        "\n",
        "cursor = conn.cursor()\n",
        "cursor.execute(\"INSERT INTO consultora_pais (nombre) VALUES ('Senegal')\")\n",
        "conn.close()"
      ],
      "metadata": {
        "id": "0rtLLzNkC_uv"
      },
      "execution_count": null,
      "outputs": []
    },
    {
      "cell_type": "code",
      "source": [
        "conn = psycopg2.connect(\n",
        "   database=\"d6dnjthjdhcjg2\", \n",
        "   user='mhoadzckqtelgg', \n",
        "   password='d23acd0a4b499eb1ea118026c36297aa9e19dd60dfdee4c17d146341eebffdd2', \n",
        "   host='ec2-54-175-79-57.compute-1.amazonaws.com', \n",
        "   port= '5432'\n",
        ")\n",
        "\n",
        "cursor = conn.cursor()\n",
        "cursor.execute(\"select * from consultora_pais \")\n",
        "data = cursor.fetchall()\n",
        "print(\"Connection established to: \",data)\n",
        "conn.close()"
      ],
      "metadata": {
        "colab": {
          "base_uri": "https://localhost:8080/"
        },
        "id": "OGmeuOFoHEO0",
        "outputId": "5ec407be-f845-410a-a99f-f1efe207d76d"
      },
      "execution_count": null,
      "outputs": [
        {
          "output_type": "stream",
          "name": "stdout",
          "text": [
            "Connection established to:  [(1, 'Argentina'), (2, 'Italia'), (3, 'Brasil'), (4, 'Chile'), (5, 'Alemania'), (6, 'Estados Unidos'), (7, 'Colombia'), (8, 'Mexico'), (9, 'Paragüay'), (10, 'Urugüay'), (11, 'Francia'), (12, 'España')]\n"
          ]
        }
      ]
    },
    {
      "cell_type": "code",
      "source": [
        "conn = psycopg2.connect(\n",
        "   database=\"d6dnjthjdhcjg2\", \n",
        "   user='mhoadzckqtelgg', \n",
        "   password='d23acd0a4b499eb1ea118026c36297aa9e19dd60dfdee4c17d146341eebffdd2', \n",
        "   host='ec2-54-175-79-57.compute-1.amazonaws.com', \n",
        "   port= '5432'\n",
        ")\n",
        "\n",
        "cursor = conn.cursor()\n",
        "cursor.execute(\"SELECT  consultora_postulante.nombre, apellido, consultora_idioma.nombre as Idioma, consultora_postulanteidioma.descripcion FROM consultora_postulanteidioma JOIN consultora_postulante ON postulante_id = consultora_postulante.id JOIN consultora_idioma ON idioma_id = consultora_idioma.id\")\n",
        "data = cursor.fetchall()\n",
        "print(\"Connection established to: \",data)\n",
        "conn.close()"
      ],
      "metadata": {
        "id": "rhVW_CRmFnYR",
        "colab": {
          "base_uri": "https://localhost:8080/",
          "height": 0
        },
        "outputId": "427d56bc-07e3-4cf4-b254-2f76788fa592"
      },
      "execution_count": 3,
      "outputs": [
        {
          "output_type": "stream",
          "name": "stdout",
          "text": [
            "Connection established to:  [('Edgar', 'Galleguillo', 'Ingles', 'Escuela de lenguas UNC'), ('Edgar', 'Galleguillo', 'Ingles', 'Escuela de lenguas UNC')]\n"
          ]
        }
      ]
    }
  ]
}